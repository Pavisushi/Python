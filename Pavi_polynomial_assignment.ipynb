{
 "cells": [
  {
   "cell_type": "code",
   "execution_count": 26,
   "id": "55c19d32",
   "metadata": {},
   "outputs": [],
   "source": [
    "# Step 1: Import necessary libraries\n",
    "import numpy as np\n",
    "import pandas as pd\n",
    "import matplotlib.pyplot as plt\n",
    "from sklearn.linear_model import LinearRegression\n",
    "from sklearn.preprocessing import PolynomialFeatures\n",
    "from sklearn.model_selection import train_test_split\n",
    "from sklearn.metrics import r2_score, mean_squared_error"
   ]
  },
  {
   "cell_type": "code",
   "execution_count": 27,
   "id": "4830fbaa",
   "metadata": {},
   "outputs": [
    {
     "data": {
      "text/html": [
       "<div>\n",
       "<style scoped>\n",
       "    .dataframe tbody tr th:only-of-type {\n",
       "        vertical-align: middle;\n",
       "    }\n",
       "\n",
       "    .dataframe tbody tr th {\n",
       "        vertical-align: top;\n",
       "    }\n",
       "\n",
       "    .dataframe thead th {\n",
       "        text-align: right;\n",
       "    }\n",
       "</style>\n",
       "<table border=\"1\" class=\"dataframe\">\n",
       "  <thead>\n",
       "    <tr style=\"text-align: right;\">\n",
       "      <th></th>\n",
       "      <th>Age</th>\n",
       "      <th>Gender</th>\n",
       "      <th>Education Level</th>\n",
       "      <th>Job Title</th>\n",
       "      <th>Years of Experience</th>\n",
       "      <th>Salary</th>\n",
       "    </tr>\n",
       "  </thead>\n",
       "  <tbody>\n",
       "    <tr>\n",
       "      <th>0</th>\n",
       "      <td>32.0</td>\n",
       "      <td>Male</td>\n",
       "      <td>Bachelor's</td>\n",
       "      <td>Software Engineer</td>\n",
       "      <td>5.0</td>\n",
       "      <td>90000.0</td>\n",
       "    </tr>\n",
       "    <tr>\n",
       "      <th>1</th>\n",
       "      <td>28.0</td>\n",
       "      <td>Female</td>\n",
       "      <td>Master's</td>\n",
       "      <td>Data Analyst</td>\n",
       "      <td>3.0</td>\n",
       "      <td>65000.0</td>\n",
       "    </tr>\n",
       "    <tr>\n",
       "      <th>2</th>\n",
       "      <td>45.0</td>\n",
       "      <td>Male</td>\n",
       "      <td>PhD</td>\n",
       "      <td>Senior Manager</td>\n",
       "      <td>15.0</td>\n",
       "      <td>150000.0</td>\n",
       "    </tr>\n",
       "    <tr>\n",
       "      <th>3</th>\n",
       "      <td>36.0</td>\n",
       "      <td>Female</td>\n",
       "      <td>Bachelor's</td>\n",
       "      <td>Sales Associate</td>\n",
       "      <td>7.0</td>\n",
       "      <td>60000.0</td>\n",
       "    </tr>\n",
       "    <tr>\n",
       "      <th>4</th>\n",
       "      <td>52.0</td>\n",
       "      <td>Male</td>\n",
       "      <td>Master's</td>\n",
       "      <td>Director</td>\n",
       "      <td>20.0</td>\n",
       "      <td>200000.0</td>\n",
       "    </tr>\n",
       "    <tr>\n",
       "      <th>...</th>\n",
       "      <td>...</td>\n",
       "      <td>...</td>\n",
       "      <td>...</td>\n",
       "      <td>...</td>\n",
       "      <td>...</td>\n",
       "      <td>...</td>\n",
       "    </tr>\n",
       "    <tr>\n",
       "      <th>6699</th>\n",
       "      <td>49.0</td>\n",
       "      <td>Female</td>\n",
       "      <td>PhD</td>\n",
       "      <td>Director of Marketing</td>\n",
       "      <td>20.0</td>\n",
       "      <td>200000.0</td>\n",
       "    </tr>\n",
       "    <tr>\n",
       "      <th>6700</th>\n",
       "      <td>32.0</td>\n",
       "      <td>Male</td>\n",
       "      <td>High School</td>\n",
       "      <td>Sales Associate</td>\n",
       "      <td>3.0</td>\n",
       "      <td>50000.0</td>\n",
       "    </tr>\n",
       "    <tr>\n",
       "      <th>6701</th>\n",
       "      <td>30.0</td>\n",
       "      <td>Female</td>\n",
       "      <td>Bachelor's Degree</td>\n",
       "      <td>Financial Manager</td>\n",
       "      <td>4.0</td>\n",
       "      <td>55000.0</td>\n",
       "    </tr>\n",
       "    <tr>\n",
       "      <th>6702</th>\n",
       "      <td>46.0</td>\n",
       "      <td>Male</td>\n",
       "      <td>Master's Degree</td>\n",
       "      <td>Marketing Manager</td>\n",
       "      <td>14.0</td>\n",
       "      <td>140000.0</td>\n",
       "    </tr>\n",
       "    <tr>\n",
       "      <th>6703</th>\n",
       "      <td>26.0</td>\n",
       "      <td>Female</td>\n",
       "      <td>High School</td>\n",
       "      <td>Sales Executive</td>\n",
       "      <td>1.0</td>\n",
       "      <td>35000.0</td>\n",
       "    </tr>\n",
       "  </tbody>\n",
       "</table>\n",
       "<p>6704 rows × 6 columns</p>\n",
       "</div>"
      ],
      "text/plain": [
       "       Age  Gender    Education Level              Job Title  \\\n",
       "0     32.0    Male         Bachelor's      Software Engineer   \n",
       "1     28.0  Female           Master's           Data Analyst   \n",
       "2     45.0    Male                PhD         Senior Manager   \n",
       "3     36.0  Female         Bachelor's        Sales Associate   \n",
       "4     52.0    Male           Master's               Director   \n",
       "...    ...     ...                ...                    ...   \n",
       "6699  49.0  Female                PhD  Director of Marketing   \n",
       "6700  32.0    Male        High School        Sales Associate   \n",
       "6701  30.0  Female  Bachelor's Degree      Financial Manager   \n",
       "6702  46.0    Male    Master's Degree      Marketing Manager   \n",
       "6703  26.0  Female        High School        Sales Executive   \n",
       "\n",
       "      Years of Experience    Salary  \n",
       "0                     5.0   90000.0  \n",
       "1                     3.0   65000.0  \n",
       "2                    15.0  150000.0  \n",
       "3                     7.0   60000.0  \n",
       "4                    20.0  200000.0  \n",
       "...                   ...       ...  \n",
       "6699                 20.0  200000.0  \n",
       "6700                  3.0   50000.0  \n",
       "6701                  4.0   55000.0  \n",
       "6702                 14.0  140000.0  \n",
       "6703                  1.0   35000.0  \n",
       "\n",
       "[6704 rows x 6 columns]"
      ]
     },
     "execution_count": 27,
     "metadata": {},
     "output_type": "execute_result"
    }
   ],
   "source": [
    "# Step 2: Load the dataset\n",
    "df=pd.read_csv(r\"C:\\Users\\pavit\\Downloads\\Salary_Data.csv\")\n",
    "df"
   ]
  },
  {
   "cell_type": "code",
   "execution_count": 28,
   "id": "e2dc92f4",
   "metadata": {},
   "outputs": [],
   "source": [
    "# Step 3: Prepare the dataset (X = independent, y = dependent)\n",
    "X = df[['Years of Experience']].values  # Independent variable (Years of Experience/Level)\n",
    "y = df['Salary'].values   # Dependent variable (Salary)"
   ]
  },
  {
   "cell_type": "code",
   "execution_count": 29,
   "id": "300768d9",
   "metadata": {},
   "outputs": [],
   "source": [
    "# Step 4: Check for NaN or Infinite values in both X and y\n",
    "# Check for missing values and drop them from both X and y to ensure consistency\n",
    "if df.isna().sum().sum() > 0:\n",
    "    df.dropna(inplace=True)  # Drop rows with NaN values (if any)\n",
    "\n",
    "    # After dropping rows, redefine X and y to ensure consistency in length\n",
    "    X = df[['Years of Experience']].values  # Independent variable (Years of Experience/Level)\n",
    "    y = df['Salary'].values   # Dependent variable (Salary)\n"
   ]
  },
  {
   "cell_type": "code",
   "execution_count": 30,
   "id": "3bd83c96",
   "metadata": {},
   "outputs": [],
   "source": [
    "# Step 5: Split the data into training and testing sets\n",
    "X_train, X_test, y_train, y_test = train_test_split(X, y, test_size=0.2, random_state=42)"
   ]
  },
  {
   "cell_type": "code",
   "execution_count": 31,
   "id": "ba487ed4",
   "metadata": {},
   "outputs": [
    {
     "data": {
      "text/plain": [
       "LinearRegression()"
      ]
     },
     "execution_count": 31,
     "metadata": {},
     "output_type": "execute_result"
    }
   ],
   "source": [
    "# Step 6: Fit Simple Linear Regression Model on training data\n",
    "linear_regressor = LinearRegression()\n",
    "linear_regressor.fit(X_train, y_train)\n"
   ]
  },
  {
   "cell_type": "code",
   "execution_count": 32,
   "id": "ddb7b301",
   "metadata": {},
   "outputs": [
    {
     "data": {
      "text/plain": [
       "LinearRegression()"
      ]
     },
     "execution_count": 32,
     "metadata": {},
     "output_type": "execute_result"
    }
   ],
   "source": [
    "# Step 7: Fit Polynomial Regression Model (Degree 3) on training data\n",
    "poly_features = PolynomialFeatures(degree=3)\n",
    "X_poly_train = poly_features.fit_transform(X_train)  # Transform training data\n",
    "poly_regressor = LinearRegression()\n",
    "poly_regressor.fit(X_poly_train, y_train)\n"
   ]
  },
  {
   "cell_type": "code",
   "execution_count": 33,
   "id": "8852fb15",
   "metadata": {},
   "outputs": [],
   "source": [
    "# Step 8: Predictions for Linear and Polynomial models on testing data\n",
    "y_pred_linear = linear_regressor.predict(X_test)\n",
    "X_poly_test = poly_features.transform(X_test)  # Transform testing data to polynomial features\n",
    "y_pred_poly = poly_regressor.predict(X_poly_test)\n"
   ]
  },
  {
   "cell_type": "code",
   "execution_count": 34,
   "id": "0940ea31",
   "metadata": {},
   "outputs": [],
   "source": [
    "# Step 9: Evaluate both models using R-squared and Adjusted R-squared\n",
    "# Linear Regression\n",
    "r2_linear = r2_score(y_test, y_pred_linear)\n",
    "n = len(y_test)  # Number of observations\n",
    "p_linear = 1  # Number of predictors in simple linear regression\n",
    "adjusted_r2_linear = 1 - (1-r2_linear) * (n-1) / (n-p_linear-1)\n"
   ]
  },
  {
   "cell_type": "code",
   "execution_count": 35,
   "id": "ab6fdb89",
   "metadata": {},
   "outputs": [
    {
     "name": "stdout",
     "output_type": "stream",
     "text": [
      "Linear Regression R-squared: 0.6555973709206211, Adjusted R-squared: 0.6553399698525498\n",
      "Polynomial Regression (Degree 3) R-squared: 0.7468827862690435, Adjusted R-squared: 0.7461243826323964\n"
     ]
    }
   ],
   "source": [
    "# Polynomial Regression\n",
    "r2_poly = r2_score(y_test, y_pred_poly)\n",
    "p_poly = X_poly_test.shape[1]  # Number of predictors in polynomial regression (includes constant term)\n",
    "adjusted_r2_poly = 1 - (1-r2_poly) * (n-1) / (n-p_poly-1)\n",
    "\n",
    "print(f\"Linear Regression R-squared: {r2_linear}, Adjusted R-squared: {adjusted_r2_linear}\")\n",
    "print(f\"Polynomial Regression (Degree 3) R-squared: {r2_poly}, Adjusted R-squared: {adjusted_r2_poly}\")\n"
   ]
  },
  {
   "cell_type": "code",
   "execution_count": 36,
   "id": "71c59a17",
   "metadata": {},
   "outputs": [
    {
     "name": "stdout",
     "output_type": "stream",
     "text": [
      "Linear Regression MSE: 982050061.9154333, RMSE: 31337.6779917631\n",
      "Polynomial Regression (Degree 3) MSE: 721753420.0618886, RMSE: 26865.468915726906\n"
     ]
    }
   ],
   "source": [
    "# Step 10: Performance Metrics (MSE, RMSE)\n",
    "mse_linear = mean_squared_error(y_test, y_pred_linear)\n",
    "mse_poly = mean_squared_error(y_test, y_pred_poly)\n",
    "\n",
    "rmse_linear = np.sqrt(mse_linear)\n",
    "rmse_poly = np.sqrt(mse_poly)\n",
    "\n",
    "print(f\"Linear Regression MSE: {mse_linear}, RMSE: {rmse_linear}\")\n",
    "print(f\"Polynomial Regression (Degree 3) MSE: {mse_poly}, RMSE: {rmse_poly}\")\n"
   ]
  },
  {
   "cell_type": "code",
   "execution_count": 37,
   "id": "a4c594d0",
   "metadata": {},
   "outputs": [
    {
     "data": {
      "image/png": "[encoded data removed]",
      "text/plain": [
       "<Figure size 432x288 with 1 Axes>"
      ]
     },
     "metadata": {
      "needs_background": "light"
     },
     "output_type": "display_data"
    }
   ],
   "source": [
    "# Step 11: Plot both models on the same graph (using the full dataset for visualization)\n",
    "plt.scatter(X, y, color='red', label='Data points')\n",
    "\n",
    "# Linear Regression Line\n",
    "plt.plot(X, linear_regressor.predict(X), color='blue', label='Linear Regression')\n",
    "\n",
    "# Polynomial Regression Curve\n",
    "X_grid = np.arange(min(X), max(X), 0.1)  # To make the curve smoother\n",
    "X_grid = X_grid.reshape(len(X_grid), 1)\n",
    "plt.plot(X_grid, poly_regressor.predict(poly_features.transform(X_grid)), color='green', label='Polynomial Regression (Degree 3)')\n",
    "\n",
    "plt.title(\"Salary vs Experience (Linear vs Polynomial Regression)\")\n",
    "plt.xlabel(\"Years of Experience\")\n",
    "plt.ylabel(\"Salary\")\n",
    "plt.legend()\n",
    "plt.show()"
   ]
  },
  {
   "cell_type": "code",
   "execution_count": null,
   "id": "488ef14f",
   "metadata": {},
   "outputs": [],
   "source": []
  }
 ],
 "metadata": {
  "kernelspec": {
   "display_name": "Python 3 (ipykernel)",
   "language": "python",
   "name": "python3"
  },
  "language_info": {
   "codemirror_mode": {
    "name": "ipython",
    "version": 3
   },
   "file_extension": ".py",
   "mimetype": "text/x-python",
   "name": "python",
   "nbconvert_exporter": "python",
   "pygments_lexer": "ipython3",
   "version": "3.8.5"
  }
 },
 "nbformat": 4,
 "nbformat_minor": 5
}
