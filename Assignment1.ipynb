{
 "cells": [
  {
   "cell_type": "markdown",
   "id": "0fd7de4b",
   "metadata": {},
   "source": [
    "Assignment 1   :                                                                                                Pavithra "
   ]
  },
  {
   "cell_type": "markdown",
   "id": "e0d6e96e",
   "metadata": {},
   "source": [
    "Exercise 1: Sum of Natural Numbers\n",
    "*Task:* Calculate the sum of the first n natural numbers using a for loop."
   ]
  },
  {
   "cell_type": "code",
   "execution_count": 1,
   "id": "ca2e889d",
   "metadata": {},
   "outputs": [
    {
     "name": "stdout",
     "output_type": "stream",
     "text": [
      "Enter a number: 5\n",
      "The sum of first 5 natural numbers is: 15\n"
     ]
    }
   ],
   "source": [
    "n = int(input(\"Enter a number: \"))\n",
    "sum = 0\n",
    "for i in range(0,n+1):\n",
    "    sum = sum+i\n",
    "print(f'The sum of first {n} natural numbers is: {sum}')"
   ]
  },
  {
   "cell_type": "markdown",
   "id": "f9e7f50e",
   "metadata": {},
   "source": [
    "Exercise 2: Print All Odd Numbers from 1 to n"
   ]
  },
  {
   "cell_type": "code",
   "execution_count": null,
   "id": "92a67e75",
   "metadata": {},
   "outputs": [],
   "source": [
    "a = int(input(\"Enter a number: \"))\n",
    "i=1 \n",
    "while i<=a: \n",
    "    if i%2!=0: \n",
    "        print(i, end = \" \") \n",
    "    i+=1 "
   ]
  },
  {
   "cell_type": "markdown",
   "id": "89fee335",
   "metadata": {},
   "source": [
    "Exercise 4: Multiplication Table\n",
    "*Task:* Print the multiplication table of a given number using a for loop.\n"
   ]
  },
  {
   "cell_type": "code",
   "execution_count": 1,
   "id": "b64e5dd0",
   "metadata": {},
   "outputs": [
    {
     "name": "stdout",
     "output_type": "stream",
     "text": [
      "Enter a number: 6\n",
      "The multiplication of 6 is : \n",
      "6 x 1 = 6\n",
      "6 x 2 = 12\n",
      "6 x 3 = 18\n",
      "6 x 4 = 24\n",
      "6 x 5 = 30\n",
      "6 x 6 = 36\n",
      "6 x 7 = 42\n",
      "6 x 8 = 48\n",
      "6 x 9 = 54\n",
      "6 x 10 = 60\n"
     ]
    }
   ],
   "source": [
    "num = int(input(\"Enter a number: \"))\n",
    "print(f'The multiplication of {num} is : ')\n",
    "for k in range(1, 11):\n",
    "    mul = num*k\n",
    "    print(num, 'x', k, '=', mul)"
   ]
  },
  {
   "cell_type": "markdown",
   "id": "aec1620e",
   "metadata": {},
   "source": [
    "Exercise 6: Find the Maximum Element in a List\n",
    "*Task:* Find the maximum element in a list using a for loop and if statements.\n"
   ]
  },
  {
   "cell_type": "code",
   "execution_count": 2,
   "id": "0714cd18",
   "metadata": {},
   "outputs": [
    {
     "name": "stdout",
     "output_type": "stream",
     "text": [
      "Enter list of numbers: 1,2,345,567,-567\n",
      "567\n"
     ]
    }
   ],
   "source": [
    "n = list((input('Enter list of numbers: ')).split(','))\n",
    "max = n[0]\n",
    "for i in n:\n",
    "  if i > max:\n",
    "    max = i\n",
    "print(max)"
   ]
  },
  {
   "cell_type": "markdown",
   "id": "8cd7e0c7",
   "metadata": {},
   "source": [
    "# Python transfer statements (break, continue) within for and while loops."
   ]
  },
  {
   "cell_type": "markdown",
   "id": "36d95147",
   "metadata": {},
   "source": [
    "Assignment 1: \n",
    "*Problem Statement:*  \n",
    "Write a Python program that takes a list of numbers as input and finds the first number divisible by 5. Once found, the loop should stop iterating, and the program should print the number.\n",
    "\n",
    "numbers = [12, 17, 23, 44, 55, 67, 88, 92]\n"
   ]
  },
  {
   "cell_type": "code",
   "execution_count": 7,
   "id": "685e47f9",
   "metadata": {},
   "outputs": [
    {
     "name": "stdout",
     "output_type": "stream",
     "text": [
      "The first number divisible by 5 is: 55\n"
     ]
    }
   ],
   "source": [
    "numbers = [12, 17, 23, 44, 55, 67, 88, 92]\n",
    "\n",
    "for i in numbers:\n",
    "    if i % 5 == 0:\n",
    "        print(\"The first number divisible by 5 is:\", i)\n",
    "        break\n"
   ]
  },
  {
   "cell_type": "code",
   "execution_count": 9,
   "id": "a4e78437",
   "metadata": {},
   "outputs": [
    {
     "name": "stdout",
     "output_type": "stream",
     "text": [
      "10\n",
      "32\n",
      "54\n",
      "76\n"
     ]
    }
   ],
   "source": [
    "numbers = [10, 21, 32, 43, 54, 65, 76, 87]\n",
    "\n",
    "for i in numbers:\n",
    "    if i % 2 != 0:\n",
    "        continue\n",
    "    print(i)\n"
   ]
  },
  {
   "cell_type": "code",
   "execution_count": 16,
   "id": "fc706e5d",
   "metadata": {},
   "outputs": [
    {
     "name": "stdout",
     "output_type": "stream",
     "text": [
      "enter the number of rows5\n",
      "* * * * * \n",
      "* * * * \n",
      "* * * \n",
      "* * \n",
      "* \n"
     ]
    }
   ],
   "source": [
    "n=int(input(\"enter the number of rows\"))\n",
    "for i in range(n,0,-1):#i=5,i=4,i=3\n",
    "    for j in range(0,i):#(0,1)(0,2)(0,3)\n",
    "        print(\"*\",end=\" \")\n",
    "    print()"
   ]
  },
  {
   "cell_type": "markdown",
   "id": "2395d582",
   "metadata": {},
   "source": [
    "# conditional_statements_assignments"
   ]
  },
  {
   "cell_type": "markdown",
   "id": "b093d378",
   "metadata": {},
   "source": [
    "1.Problem Statement: A bank offers personal loans, but the eligibility depends on the applicant's age and income. If the applicant is between 18 and 60 years old and has a monthly income of over $3000, they are eligible for the loan. Otherwise, they are not eligible.\n"
   ]
  },
  {
   "cell_type": "code",
   "execution_count": 18,
   "id": "fa620fc9",
   "metadata": {},
   "outputs": [
    {
     "name": "stdout",
     "output_type": "stream",
     "text": [
      "Enter your age: 30\n",
      "Enter your monthly income: 40000\n",
      "You are eligible for the personal loan.\n"
     ]
    }
   ],
   "source": [
    "age = int(input(\"Enter your age: \"))\n",
    "income = int(input(\"Enter your monthly income: \"))\n",
    "\n",
    "if age>=18 and age<=60 and income > 3000:\n",
    "    print(\"You are eligible for the personal loan.\")\n",
    "else:\n",
    "    print(\"You are not eligible for the personal loan.\")\n"
   ]
  },
  {
   "cell_type": "markdown",
   "id": "2820d91a",
   "metadata": {},
   "source": [
    "2.Problem Statement: A store offers a discount on purchases based on the total amount spent. If a customer spends more than 100 usd, they receive a 10 percent discount. If they spend more than 200 usd, the discount increases to 20 percent. For amounts less than or equal to 100 usd, no discount is applied.\n"
   ]
  },
  {
   "cell_type": "code",
   "execution_count": null,
   "id": "0507beac",
   "metadata": {},
   "outputs": [],
   "source": [
    "Amount = float(input(\"Enter the total amount spent: $\"))\n",
    "if Amount > 200:\n",
    "    discount = 0.20  \n",
    "elif Amount > 100:\n",
    "    discount = 0.10  \n",
    "else:\n",
    "    discount = 0.00  \n",
    "\n",
    "discount_amount = Amount * discount\n",
    "final_amount = Amount - discount_amount\n",
    "\n",
    "print(f\"The final amount to be paid is {final_amount} and the discount applied is {discount_amount}\")\n"
   ]
  },
  {
   "cell_type": "markdown",
   "id": "f93ad8a0",
   "metadata": {},
   "source": [
    "3. Problem Statement: A temperature alert system monitors room temperature. If the temperature exceeds 30°C, it triggers a \"High Temperature Alert\". If the temperature is below 15°C, it triggers a \"Low Temperature Alert\". Otherwise, it reports that the temperature is normal."
   ]
  },
  {
   "cell_type": "code",
   "execution_count": 4,
   "id": "d8e37766",
   "metadata": {},
   "outputs": [
    {
     "name": "stdout",
     "output_type": "stream",
     "text": [
      "Enter the room temperature in °C: 45\n",
      "High Temperature Alert!\n"
     ]
    }
   ],
   "source": [
    "temp = float(input(\"Enter the room temperature in °C: \"))\n",
    "if temp > 30:\n",
    "    print(\"High Temperature Alert!\")\n",
    "elif temp < 15:\n",
    "    print(\"Low Temperature Alert!\")\n",
    "else:\n",
    "    print(\"Temperature is normal.\")"
   ]
  },
  {
   "cell_type": "code",
   "execution_count": 3,
   "id": "377b617f",
   "metadata": {},
   "outputs": [
    {
     "name": "stdout",
     "output_type": "stream",
     "text": [
      "Enter an integer: 6\n",
      "Fibonacci sequence:\n",
      "0\n",
      "1\n",
      "1\n",
      "2\n",
      "3\n",
      "5\n"
     ]
    }
   ],
   "source": [
    "def recur_fibo(n):\n",
    "    if n <= 1:\n",
    "        return n\n",
    "    else:\n",
    "        return recur_fibo(n-1) + recur_fibo(n-2)\n",
    "\n",
    "n = int(input(\"Enter an integer: \"))\n",
    "if n <= 0:\n",
    "    print(\"Please enter a positive integer\")\n",
    "else:\n",
    "    print(\"Fibonacci sequence:\")\n",
    "    for i in range(n):\n",
    "        print(recur_fibo(i))\n"
   ]
  },
  {
   "cell_type": "code",
   "execution_count": 17,
   "id": "27d66a0c",
   "metadata": {},
   "outputs": [
    {
     "name": "stdout",
     "output_type": "stream",
     "text": [
      "4\n",
      "16\n"
     ]
    }
   ],
   "source": [
    "a = lambda num:num**2\n",
    "b = [2,4]\n",
    "for i in b:\n",
    "    c = a(i)\n",
    "    print(c)"
   ]
  },
  {
   "cell_type": "code",
   "execution_count": 1,
   "id": "a78e03b3",
   "metadata": {},
   "outputs": [
    {
     "name": "stdout",
     "output_type": "stream",
     "text": [
      "11\n"
     ]
    }
   ],
   "source": [
    "x = lambda a,b: a+b\n",
    "print(x(5,6))"
   ]
  },
  {
   "cell_type": "markdown",
   "id": "daa57056",
   "metadata": {},
   "source": [
    "# FUNCTION ASSIGNMENT"
   ]
  },
  {
   "cell_type": "markdown",
   "id": "9ab78bc4",
   "metadata": {},
   "source": [
    "1 Define a function in python that accepts 3 values and returns the maximum of three numbers.\n",
    " Hint\n",
    " Input:\n",
    " Value of a = 30\n",
    " Value of b = 22\n",
    " value of c = 18"
   ]
  },
  {
   "cell_type": "code",
   "execution_count": 4,
   "id": "2cc816ff",
   "metadata": {},
   "outputs": [
    {
     "data": {
      "text/plain": [
       "30"
      ]
     },
     "execution_count": 4,
     "metadata": {},
     "output_type": "execute_result"
    }
   ],
   "source": [
    "def maxi(a,b,c):\n",
    "    if a>b and a>c:\n",
    "        print(f\"maximum is {a}\")\n",
    "    elif b>a and b>c:\n",
    "        print(f\"maximum is {b}\")\n",
    "    else:\n",
    "        print(f\"maximum is {c}\")\n",
    "max(30,22,18)"
   ]
  },
  {
   "cell_type": "markdown",
   "id": "0136f33a",
   "metadata": {},
   "source": [
    "2 Define a function that accepts a number and returns whether the number is even or odd.\n",
    "Hint\n",
    "Input:\n",
    "Enter a number = 4\n",
    "Expected output \n",
    "4 is an even number"
   ]
  },
  {
   "cell_type": "code",
   "execution_count": 6,
   "id": "94b22038",
   "metadata": {},
   "outputs": [
    {
     "name": "stdout",
     "output_type": "stream",
     "text": [
      "Enter a number 4\n",
      "4 is Even number\n"
     ]
    }
   ],
   "source": [
    "def func(x):\n",
    "    if x % 2 == 0:\n",
    "        print(f\"{x} is Even number\")\n",
    "    else:\n",
    "        print(f\"{x} is Odd number\")\n",
    "x = int(input(\"Enter a number \"))\n",
    "func(x)"
   ]
  },
  {
   "cell_type": "markdown",
   "id": "c05898e3",
   "metadata": {},
   "source": [
    "3 Define a function which counts vowels and consonant in a word.\n",
    " Hint\n",
    " Input:\n",
    " Enter a word = pythonlobby\n",
    "\n",
    " Expected output \n",
    " Count of vowel is = 2\n",
    " Count of consonant is = 9"
   ]
  },
  {
   "cell_type": "code",
   "execution_count": 7,
   "id": "1be6b878",
   "metadata": {},
   "outputs": [
    {
     "name": "stdout",
     "output_type": "stream",
     "text": [
      "Enter Value: pythonlobby\n",
      "Count of vowels is  2\n",
      "Count of consonant is  9\n"
     ]
    }
   ],
   "source": [
    "def count(val):\n",
    "    vov = 0\n",
    "    con = 0\n",
    "    for i in range(len(val)):\n",
    "        if val[i] in ['a','e','i','o','u']:\n",
    "            vov = vov+1\n",
    "        else:\n",
    "            con = con + 1\n",
    "\n",
    "    print(\"Count of vowels is \",vov)\n",
    "    print(\"Count of consonant is \",con)\n",
    "\n",
    "x = input(\"Enter Value: \") \n",
    "count(x)    "
   ]
  },
  {
   "cell_type": "markdown",
   "id": "e0660145",
   "metadata": {},
   "source": [
    "4. Define a function that accepts lowercase words and returns uppercase words.\n",
    "Hint\n",
    "Input:\n",
    "Enter a word = pythonlobby\n",
    "\n",
    "Expected output \n",
    "Result is = PYTHONLOBBY\n"
   ]
  },
  {
   "cell_type": "code",
   "execution_count": 8,
   "id": "d0cb4b47",
   "metadata": {},
   "outputs": [
    {
     "name": "stdout",
     "output_type": "stream",
     "text": [
      "Enter String: PYTHONLOBBY\n",
      "PYTHONLOBBY\n"
     ]
    }
   ],
   "source": [
    "def response(text):\n",
    "    z = text.upper()\n",
    "    print(z)\n",
    "\n",
    "text = input(\"Enter String: \")  \n",
    "response(text)"
   ]
  },
  {
   "cell_type": "markdown",
   "id": "aa1bc79a",
   "metadata": {},
   "source": [
    "5.Define a function that accepts lowercase words and returns uppercase words.\n",
    "Hint\n",
    "Input:\n",
    "Enter a word = pythonlobby\n",
    "Expected output \n",
    "Result is = PYTHONLOBBY\n"
   ]
  },
  {
   "cell_type": "code",
   "execution_count": 4,
   "id": "86120c28",
   "metadata": {},
   "outputs": [
    {
     "name": "stdout",
     "output_type": "stream",
     "text": [
      "Enter a word: pythonlobby\n",
      "Result is = PYTHONLOBBY\n"
     ]
    }
   ],
   "source": [
    "def to_uppercase(word):\n",
    "    if word.islower():  \n",
    "        return word.upper()\n",
    "    else:\n",
    "        return \"Input is not in lowercase\"\n",
    "\n",
    "word = input(\"Enter a word: \")\n",
    "result = to_uppercase(word)\n",
    "print(f\"Result is = {result}\")"
   ]
  },
  {
   "cell_type": "markdown",
   "id": "7ba6116f",
   "metadata": {},
   "source": [
    "6.Filtering Even Numbers and Squaring ThemProblem Statement:\n",
    "Write a Python function that takes a list of integers and returns a new list containing the squares of only the even numbers from the original list. \n",
    "Use the filter() function to filter even numbers and the map() function to compute the squares.\n"
   ]
  },
  {
   "cell_type": "code",
   "execution_count": 5,
   "id": "f7c6ac72",
   "metadata": {},
   "outputs": [
    {
     "name": "stdout",
     "output_type": "stream",
     "text": [
      "[64, 9604]\n"
     ]
    }
   ],
   "source": [
    "def square_even_numbers(numbers):\n",
    "    even_numbers = filter(lambda x: x % 2 == 0, numbers)\n",
    "    squared_numbers = map(lambda x: x ** 2, even_numbers)\n",
    "    return list(squared_numbers)\n",
    "\n",
    "numbers = [1, 8, 79, 98]\n",
    "result = square_even_numbers(numbers)\n",
    "print(result)  \n"
   ]
  },
  {
   "cell_type": "markdown",
   "id": "f368bb44",
   "metadata": {},
   "source": [
    "7. Calculate Product of All Numbers Using ReduceProblem Statement:\n",
    "Write a Python function that takes a list of integers and returns the product of all the numbers in the list.\n",
    " Use the reduce() function from the functools module and a lambda function to perform the multiplication.\n"
   ]
  },
  {
   "cell_type": "code",
   "execution_count": 9,
   "id": "51453573",
   "metadata": {},
   "outputs": [
    {
     "name": "stdout",
     "output_type": "stream",
     "text": [
      "120\n"
     ]
    }
   ],
   "source": [
    "from functools import reduce\n",
    "\n",
    "def product_of_numbers(numbers):\n",
    "    product = reduce(lambda x, y: x * y, numbers)\n",
    "    return product\n",
    "\n",
    "numbers = [1, 2, 3, 4, 5]\n",
    "result = product_of_numbers(numbers)\n",
    "print(result)  \n"
   ]
  },
  {
   "cell_type": "markdown",
   "id": "5c2a4c40",
   "metadata": {},
   "source": [
    "8.Problem 3: Filtering and Transforming a List of StringsProblem Statement:\n",
    "Write a Python function that takes a list of strings, filters out strings shorter than 5 characters, converts the remaining strings to uppercase, and returns the resulting list.\n",
    " Use filter(), map(), and lambda functions\n"
   ]
  },
  {
   "cell_type": "code",
   "execution_count": 9,
   "id": "66e22864",
   "metadata": {},
   "outputs": [
    {
     "name": "stdout",
     "output_type": "stream",
     "text": [
      "['SOWMYA', 'PAVITHRA', 'VAMSI', 'DYASHIN']\n"
     ]
    }
   ],
   "source": [
    "def filter_and_transform(strings):\n",
    "    filtered_strings = filter(lambda s: len(s) >= 5, strings)\n",
    "    uppercase_strings = map(lambda s: s.upper(), filtered_strings)\n",
    "    return list(uppercase_strings)\n",
    "\n",
    "strings = [\"Sowmya\",\"Pavithra\", \"sai\", \"hi\", \"Sid\", \"Vamsi\", \"Dyashin\"]\n",
    "result = filter_and_transform(strings)\n",
    "print(result)  "
   ]
  },
  {
   "cell_type": "markdown",
   "id": "c1ca00eb",
   "metadata": {},
   "source": [
    "# Assignment Questions on Python Functions, Global Namespace, and Local Namespace"
   ]
  },
  {
   "cell_type": "markdown",
   "id": "d424c85a",
   "metadata": {},
   "source": [
    "Question 1: Function and Namespace Challenge\n",
    "Write a Python program that demonstrates the difference between local and global namespaces. Create a global variable x and assign it a value. Define a function that tries to change the value of x both locally and globally. Display the value of x inside the function and outside the function.\n"
   ]
  },
  {
   "cell_type": "code",
   "execution_count": 10,
   "id": "2a6a5125",
   "metadata": {},
   "outputs": [
    {
     "name": "stdout",
     "output_type": "stream",
     "text": [
      "Inside function, before change, x = 10\n",
      "Inside function, after change, global x = 20\n",
      "Inside function, local x_local = 30\n",
      "Outside function, global x = 20\n"
     ]
    }
   ],
   "source": [
    "x = 10\n",
    "def demonstrate_namespace():\n",
    "    global x  \n",
    "    print(\"Inside function, before change, x =\", x)\n",
    "    x = 20\n",
    "    x_local = 30\n",
    "    print(\"Inside function, after change, global x =\", x)\n",
    "    print(\"Inside function, local x_local =\", x_local)\n",
    "\n",
    "demonstrate_namespace()\n",
    "print(\"Outside function, global x =\", x)\n"
   ]
  },
  {
   "cell_type": "markdown",
   "id": "111ffd27",
   "metadata": {},
   "source": [
    "Question 2: Nested Function and Nonlocal Keyword\n",
    "Write a Python program that has a nested function. The outer function should declare a local variable, and the inner function should modify this variable using the nonlocal keyword. Demonstrate how nonlocal affects the outer function's variable.\n",
    "outer_function()\n"
   ]
  },
  {
   "cell_type": "code",
   "execution_count": 12,
   "id": "17ecf796",
   "metadata": {},
   "outputs": [
    {
     "name": "stdout",
     "output_type": "stream",
     "text": [
      "Before calling inner_function, message = Python\n",
      "Inside inner_function, message = Hello, Dyashin\n",
      "After calling inner_function, message = Hello, Dyashin\n"
     ]
    }
   ],
   "source": [
    "def outer_function():\n",
    "    message = \"Python\"\n",
    "    \n",
    "    def inner_function():\n",
    "        nonlocal message  \n",
    "        message = \"Hello, Dyashin\"  \n",
    "        print(\"Inside inner_function, message =\", message)\n",
    "    \n",
    "    print(\"Before calling inner_function, message =\", message)\n",
    "    inner_function()  # Call the inner function\n",
    "    print(\"After calling inner_function, message =\", message)\n",
    "\n",
    "# Call the outer function\n",
    "outer_function()"
   ]
  },
  {
   "cell_type": "markdown",
   "id": "d3c5871d",
   "metadata": {},
   "source": [
    "Question 3: Nested Exception Handling with Multiple Errors\n",
    "\n",
    "Write a Python program that handles multiple exceptions using a single try-except block. The program should prompt the user to input two numbers and then divide them. Handle the cases where the input is not a number, or division by zero occurs. Implement nested try-except blocks for further exception handling.\n"
   ]
  },
  {
   "cell_type": "code",
   "execution_count": 14,
   "id": "b5bfef89",
   "metadata": {},
   "outputs": [
    {
     "name": "stdout",
     "output_type": "stream",
     "text": [
      "Enter the first number: 33\n",
      "Enter the second number: 78\n",
      "The result of dividing 33.0 by 78.0 is 0.423\n"
     ]
    }
   ],
   "source": [
    "def divide_numbers():\n",
    "    try:\n",
    "        try:\n",
    "            num1 = float(input(\"Enter the first number: \"))\n",
    "            num2 = float(input(\"Enter the second number: \"))\n",
    "        except ValueError:\n",
    "            print(\"Error: Invalid input. Please enter numbers only.\")\n",
    "            return  \n",
    "\n",
    "        try:\n",
    "            result = num1 / num2\n",
    "        except ZeroDivisionError:\n",
    "            print(\"Error: Division by zero is not allowed.\")\n",
    "            return  \n",
    "        print(f\"The result of dividing {num1} by {num2} is {result:.3f}\")\n",
    "\n",
    "    except Exception as e:\n",
    "        print(f\"An unexpected error occurred: {e}\")\n",
    "\n",
    "divide_numbers()\n"
   ]
  },
  {
   "cell_type": "markdown",
   "id": "1ae4ecfd",
   "metadata": {},
   "source": [
    "Question 4: Custom Exception Handling\n",
    "\n",
    "Create a custom exception called NegativeNumberError. Write a function that raises this exception if the user inputs a negative number when prompted. Handle this exception and print a custom error message. If no exception occurs, print the square of the number.\n"
   ]
  },
  {
   "cell_type": "code",
   "execution_count": 15,
   "id": "d6fa56ab",
   "metadata": {},
   "outputs": [
    {
     "name": "stdout",
     "output_type": "stream",
     "text": [
      "Enter a number: 4\n",
      "The square of 4.0 is 16.0\n"
     ]
    }
   ],
   "source": [
    "class NegativeNumberError(Exception):\n",
    "    \"\"\"Exception raised for entering a negative number.\"\"\"\n",
    "    def __init__(self, message=\"Negative numbers are not allowed.\"):\n",
    "        self.message = message\n",
    "        super().__init__(self.message)\n",
    "\n",
    "def check_and_square_number():\n",
    "    try:\n",
    "        num = float(input(\"Enter a number: \"))\n",
    "        if num < 0:\n",
    "            raise NegativeNumberError\n",
    "        print(f\"The square of {num} is {num ** 2}\")\n",
    "\n",
    "    except NegativeNumberError as e:\n",
    "        print(f\"Error: {e}\")\n",
    "    except ValueError:\n",
    "        print(\"Error: Invalid input. Please enter a valid number.\")\n",
    "\n",
    "check_and_square_number()"
   ]
  },
  {
   "cell_type": "markdown",
   "id": "f27de258",
   "metadata": {},
   "source": [
    "# Generators:\n",
    "\n",
    "1.Question: Create a generator even_numbers(n) that yields all even numbers up to n.\n",
    "2.Question: Write a generator squared_numbers(n) that yields the squares of numbers from 1 to n.\n",
    "3.Question: Create a generator unique_chars(s) that yields unique characters from a string s.\n"
   ]
  },
  {
   "cell_type": "markdown",
   "id": "c2b2b9ca",
   "metadata": {},
   "source": [
    "1.Question: Create a generator even_numbers(n) that yields all even numbers up to n."
   ]
  },
  {
   "cell_type": "code",
   "execution_count": 16,
   "id": "57ef99a9",
   "metadata": {},
   "outputs": [
    {
     "name": "stdout",
     "output_type": "stream",
     "text": [
      "2\n",
      "4\n",
      "6\n",
      "8\n",
      "10\n"
     ]
    }
   ],
   "source": [
    "def even_numbers(n):\n",
    "    for i in range(2, n + 1, 2):\n",
    "        yield i\n",
    "\n",
    "for even in even_numbers(10):\n",
    "    print(even)\n"
   ]
  },
  {
   "cell_type": "markdown",
   "id": "829f5370",
   "metadata": {},
   "source": [
    "2.Question: Write a generator squared_numbers(n) that yields the squares of numbers from 1 to n.\n"
   ]
  },
  {
   "cell_type": "code",
   "execution_count": 17,
   "id": "f5015509",
   "metadata": {},
   "outputs": [
    {
     "name": "stdout",
     "output_type": "stream",
     "text": [
      "1\n",
      "4\n",
      "9\n",
      "16\n",
      "25\n"
     ]
    }
   ],
   "source": [
    "def squared_numbers(n):\n",
    "    for i in range(1, n + 1):\n",
    "        yield i ** 2\n",
    "\n",
    "for square in squared_numbers(5):\n",
    "    print(square)\n"
   ]
  },
  {
   "cell_type": "markdown",
   "id": "990e5239",
   "metadata": {},
   "source": [
    "3.Question: Create a generator unique_chars(s) that yields unique characters from a string s.\n"
   ]
  },
  {
   "cell_type": "code",
   "execution_count": 18,
   "id": "2b6d3eb0",
   "metadata": {},
   "outputs": [
    {
     "name": "stdout",
     "output_type": "stream",
     "text": [
      "a\n",
      "b\n",
      "r\n",
      "c\n",
      "d\n"
     ]
    }
   ],
   "source": [
    "def unique_chars(s):\n",
    "    seen = set()\n",
    "    for char in s:\n",
    "        if char not in seen:\n",
    "            yield char\n",
    "            seen.add(char)\n",
    "\n",
    "for char in unique_chars(\"abracadabra\"):\n",
    "    print(char)"
   ]
  },
  {
   "cell_type": "markdown",
   "id": "a894b14b",
   "metadata": {},
   "source": [
    "# Decorators:\n",
    "\n",
    "1.Question: Write a decorator greet_decorator that adds a greeting message before a function call\n",
    "2.Question: Create a decorator uppercase_decorator that converts the result of a function to uppercase\n",
    "3.Question: Create a decorator type_check_decorator that checks if the arguments passed to a function are of the correct type"
   ]
  },
  {
   "cell_type": "code",
   "execution_count": 20,
   "id": "de550e30",
   "metadata": {},
   "outputs": [
    {
     "name": "stdout",
     "output_type": "stream",
     "text": [
      "Hello! Welcome to my assignment.\n",
      "Hello, Pavi!\n"
     ]
    }
   ],
   "source": [
    "def greet_decorator(func):\n",
    "    def wrapper(*args, **kwargs):\n",
    "        print(\"Hello! Welcome to my assignment.\")\n",
    "        return func(*args, **kwargs)\n",
    "    return wrapper\n",
    "\n",
    "@greet_decorator\n",
    "def say_hello(name):\n",
    "    print(f\"Hello, {name}!\")\n",
    "\n",
    "say_hello(\"Pavi\")\n"
   ]
  },
  {
   "cell_type": "code",
   "execution_count": 22,
   "id": "f8b55fac",
   "metadata": {},
   "outputs": [
    {
     "name": "stdout",
     "output_type": "stream",
     "text": [
      "HELLO, SHALINI!\n"
     ]
    }
   ],
   "source": [
    "def uppercase_decorator(func):\n",
    "    def wrapper(*args, **kwargs):\n",
    "        result = func(*args, **kwargs)\n",
    "        return result.upper()\n",
    "    return wrapper\n",
    "\n",
    "# Example usage\n",
    "@uppercase_decorator\n",
    "def get_message(name):\n",
    "    return f\"Hello, {name}!\"\n",
    "\n",
    "print(get_message(\"sHaLiNi\"))\n"
   ]
  },
  {
   "cell_type": "code",
   "execution_count": 23,
   "id": "12c78e4f",
   "metadata": {},
   "outputs": [
    {
     "name": "stdout",
     "output_type": "stream",
     "text": [
      "Pavi is 26 years old\n"
     ]
    },
    {
     "ename": "TypeError",
     "evalue": "Argument 2 is not of type int",
     "output_type": "error",
     "traceback": [
      "\u001b[1;31m---------------------------------------------------------------------------\u001b[0m",
      "\u001b[1;31mTypeError\u001b[0m                                 Traceback (most recent call last)",
      "\u001b[1;32m~\\AppData\\Local\\Temp/ipykernel_24296/2259457613.py\u001b[0m in \u001b[0;36m<module>\u001b[1;34m\u001b[0m\n\u001b[0;32m     14\u001b[0m \u001b[1;33m\u001b[0m\u001b[0m\n\u001b[0;32m     15\u001b[0m \u001b[0mprint\u001b[0m\u001b[1;33m(\u001b[0m\u001b[0mperson_info\u001b[0m\u001b[1;33m(\u001b[0m\u001b[1;34m\"Pavi\"\u001b[0m\u001b[1;33m,\u001b[0m \u001b[1;36m26\u001b[0m\u001b[1;33m)\u001b[0m\u001b[1;33m)\u001b[0m\u001b[1;33m\u001b[0m\u001b[1;33m\u001b[0m\u001b[0m\n\u001b[1;32m---> 16\u001b[1;33m \u001b[0mprint\u001b[0m\u001b[1;33m(\u001b[0m\u001b[0mperson_info\u001b[0m\u001b[1;33m(\u001b[0m\u001b[1;34m\"Pavi\"\u001b[0m\u001b[1;33m,\u001b[0m \u001b[1;34m\"thirty\"\u001b[0m\u001b[1;33m)\u001b[0m\u001b[1;33m)\u001b[0m  \u001b[1;31m# Raises a TypeError\u001b[0m\u001b[1;33m\u001b[0m\u001b[1;33m\u001b[0m\u001b[0m\n\u001b[0m",
      "\u001b[1;32m~\\AppData\\Local\\Temp/ipykernel_24296/2259457613.py\u001b[0m in \u001b[0;36mwrapper\u001b[1;34m(*args, **kwargs)\u001b[0m\n\u001b[0;32m      4\u001b[0m             \u001b[1;32mfor\u001b[0m \u001b[0mi\u001b[0m\u001b[1;33m,\u001b[0m \u001b[1;33m(\u001b[0m\u001b[0marg\u001b[0m\u001b[1;33m,\u001b[0m \u001b[0mexpected\u001b[0m\u001b[1;33m)\u001b[0m \u001b[1;32min\u001b[0m \u001b[0menumerate\u001b[0m\u001b[1;33m(\u001b[0m\u001b[0mzip\u001b[0m\u001b[1;33m(\u001b[0m\u001b[0margs\u001b[0m\u001b[1;33m,\u001b[0m \u001b[0mexpected_types\u001b[0m\u001b[1;33m)\u001b[0m\u001b[1;33m)\u001b[0m\u001b[1;33m:\u001b[0m\u001b[1;33m\u001b[0m\u001b[1;33m\u001b[0m\u001b[0m\n\u001b[0;32m      5\u001b[0m                 \u001b[1;32mif\u001b[0m \u001b[1;32mnot\u001b[0m \u001b[0misinstance\u001b[0m\u001b[1;33m(\u001b[0m\u001b[0marg\u001b[0m\u001b[1;33m,\u001b[0m \u001b[0mexpected\u001b[0m\u001b[1;33m)\u001b[0m\u001b[1;33m:\u001b[0m\u001b[1;33m\u001b[0m\u001b[1;33m\u001b[0m\u001b[0m\n\u001b[1;32m----> 6\u001b[1;33m                     \u001b[1;32mraise\u001b[0m \u001b[0mTypeError\u001b[0m\u001b[1;33m(\u001b[0m\u001b[1;34mf\"Argument {i+1} is not of type {expected.__name__}\"\u001b[0m\u001b[1;33m)\u001b[0m\u001b[1;33m\u001b[0m\u001b[1;33m\u001b[0m\u001b[0m\n\u001b[0m\u001b[0;32m      7\u001b[0m             \u001b[1;32mreturn\u001b[0m \u001b[0mfunc\u001b[0m\u001b[1;33m(\u001b[0m\u001b[1;33m*\u001b[0m\u001b[0margs\u001b[0m\u001b[1;33m,\u001b[0m \u001b[1;33m**\u001b[0m\u001b[0mkwargs\u001b[0m\u001b[1;33m)\u001b[0m\u001b[1;33m\u001b[0m\u001b[1;33m\u001b[0m\u001b[0m\n\u001b[0;32m      8\u001b[0m         \u001b[1;32mreturn\u001b[0m \u001b[0mwrapper\u001b[0m\u001b[1;33m\u001b[0m\u001b[1;33m\u001b[0m\u001b[0m\n",
      "\u001b[1;31mTypeError\u001b[0m: Argument 2 is not of type int"
     ]
    }
   ],
   "source": [
    "def type_check_decorator(expected_types):\n",
    "    def decorator(func):\n",
    "        def wrapper(*args, **kwargs):\n",
    "            for i, (arg, expected) in enumerate(zip(args, expected_types)):\n",
    "                if not isinstance(arg, expected):\n",
    "                    raise TypeError(f\"Argument {i+1} is not of type {expected.__name__}\")\n",
    "            return func(*args, **kwargs)\n",
    "        return wrapper\n",
    "    return decorator\n",
    "\n",
    "@type_check_decorator((str, int))\n",
    "def person_info(name, age):\n",
    "    return f\"{name} is {age} years old\"\n",
    "\n",
    "print(person_info(\"Pavi\", 26))  \n",
    "print(person_info(\"Pavi\", \"thirty\"))  # Raises a TypeError\n"
   ]
  }
 ],
 "metadata": {
  "kernelspec": {
   "display_name": "Python 3 (ipykernel)",
   "language": "python",
   "name": "python3"
  },
  "language_info": {
   "codemirror_mode": {
    "name": "ipython",
    "version": 3
   },
   "file_extension": ".py",
   "mimetype": "text/x-python",
   "name": "python",
   "nbconvert_exporter": "python",
   "pygments_lexer": "ipython3",
   "version": "3.8.5"
  }
 },
 "nbformat": 4,
 "nbformat_minor": 5
}
